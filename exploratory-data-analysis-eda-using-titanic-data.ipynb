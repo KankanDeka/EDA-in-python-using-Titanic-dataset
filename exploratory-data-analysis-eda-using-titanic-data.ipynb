{
 "cells": [
  {
   "cell_type": "code",
   "execution_count": 1,
   "id": "b3cbe71b",
   "metadata": {
    "execution": {
     "iopub.execute_input": "2022-09-09T08:40:20.953639Z",
     "iopub.status.busy": "2022-09-09T08:40:20.953116Z",
     "iopub.status.idle": "2022-09-09T08:40:22.153887Z",
     "shell.execute_reply": "2022-09-09T08:40:22.152506Z"
    },
    "papermill": {
     "duration": 1.217053,
     "end_time": "2022-09-09T08:40:22.157110",
     "exception": false,
     "start_time": "2022-09-09T08:40:20.940057",
     "status": "completed"
    },
    "tags": []
   },
   "outputs": [],
   "source": [
    "import pandas as pd\n",
    "import numpy as np\n",
    "import matplotlib.pyplot as plt\n",
    "import seaborn as sns"
   ]
  },
  {
   "cell_type": "code",
   "execution_count": 2,
   "id": "d5d7c9e3",
   "metadata": {
    "execution": {
     "iopub.execute_input": "2022-09-09T08:40:22.179579Z",
     "iopub.status.busy": "2022-09-09T08:40:22.178473Z",
     "iopub.status.idle": "2022-09-09T08:40:22.201045Z",
     "shell.execute_reply": "2022-09-09T08:40:22.199890Z"
    },
    "papermill": {
     "duration": 0.036778,
     "end_time": "2022-09-09T08:40:22.203758",
     "exception": false,
     "start_time": "2022-09-09T08:40:22.166980",
     "status": "completed"
    },
    "tags": []
   },
   "outputs": [],
   "source": [
    "train = pd.read_csv('../input/titanic/titanic_train.csv')"
   ]
  },
  {
   "cell_type": "code",
   "execution_count": 3,
   "id": "984e8209",
   "metadata": {
    "execution": {
     "iopub.execute_input": "2022-09-09T08:40:22.226338Z",
     "iopub.status.busy": "2022-09-09T08:40:22.225176Z",
     "iopub.status.idle": "2022-09-09T08:40:22.251432Z",
     "shell.execute_reply": "2022-09-09T08:40:22.250147Z"
    },
    "papermill": {
     "duration": 0.040849,
     "end_time": "2022-09-09T08:40:22.254466",
     "exception": false,
     "start_time": "2022-09-09T08:40:22.213617",
     "status": "completed"
    },
    "tags": []
   },
   "outputs": [
    {
     "data": {
      "text/html": [
       "<div>\n",
       "<style scoped>\n",
       "    .dataframe tbody tr th:only-of-type {\n",
       "        vertical-align: middle;\n",
       "    }\n",
       "\n",
       "    .dataframe tbody tr th {\n",
       "        vertical-align: top;\n",
       "    }\n",
       "\n",
       "    .dataframe thead th {\n",
       "        text-align: right;\n",
       "    }\n",
       "</style>\n",
       "<table border=\"1\" class=\"dataframe\">\n",
       "  <thead>\n",
       "    <tr style=\"text-align: right;\">\n",
       "      <th></th>\n",
       "      <th>PassengerId</th>\n",
       "      <th>Survived</th>\n",
       "      <th>Pclass</th>\n",
       "      <th>Name</th>\n",
       "      <th>Sex</th>\n",
       "      <th>Age</th>\n",
       "      <th>SibSp</th>\n",
       "      <th>Parch</th>\n",
       "      <th>Ticket</th>\n",
       "      <th>Fare</th>\n",
       "      <th>Cabin</th>\n",
       "      <th>Embarked</th>\n",
       "    </tr>\n",
       "  </thead>\n",
       "  <tbody>\n",
       "    <tr>\n",
       "      <th>0</th>\n",
       "      <td>1</td>\n",
       "      <td>0</td>\n",
       "      <td>3</td>\n",
       "      <td>Braund, Mr. Owen Harris</td>\n",
       "      <td>male</td>\n",
       "      <td>22.0</td>\n",
       "      <td>1</td>\n",
       "      <td>0</td>\n",
       "      <td>A/5 21171</td>\n",
       "      <td>7.2500</td>\n",
       "      <td>NaN</td>\n",
       "      <td>S</td>\n",
       "    </tr>\n",
       "    <tr>\n",
       "      <th>1</th>\n",
       "      <td>2</td>\n",
       "      <td>1</td>\n",
       "      <td>1</td>\n",
       "      <td>Cumings, Mrs. John Bradley (Florence Briggs Th...</td>\n",
       "      <td>female</td>\n",
       "      <td>38.0</td>\n",
       "      <td>1</td>\n",
       "      <td>0</td>\n",
       "      <td>PC 17599</td>\n",
       "      <td>71.2833</td>\n",
       "      <td>C85</td>\n",
       "      <td>C</td>\n",
       "    </tr>\n",
       "    <tr>\n",
       "      <th>2</th>\n",
       "      <td>3</td>\n",
       "      <td>1</td>\n",
       "      <td>3</td>\n",
       "      <td>Heikkinen, Miss. Laina</td>\n",
       "      <td>female</td>\n",
       "      <td>26.0</td>\n",
       "      <td>0</td>\n",
       "      <td>0</td>\n",
       "      <td>STON/O2. 3101282</td>\n",
       "      <td>7.9250</td>\n",
       "      <td>NaN</td>\n",
       "      <td>S</td>\n",
       "    </tr>\n",
       "    <tr>\n",
       "      <th>3</th>\n",
       "      <td>4</td>\n",
       "      <td>1</td>\n",
       "      <td>1</td>\n",
       "      <td>Futrelle, Mrs. Jacques Heath (Lily May Peel)</td>\n",
       "      <td>female</td>\n",
       "      <td>35.0</td>\n",
       "      <td>1</td>\n",
       "      <td>0</td>\n",
       "      <td>113803</td>\n",
       "      <td>53.1000</td>\n",
       "      <td>C123</td>\n",
       "      <td>S</td>\n",
       "    </tr>\n",
       "    <tr>\n",
       "      <th>4</th>\n",
       "      <td>5</td>\n",
       "      <td>0</td>\n",
       "      <td>3</td>\n",
       "      <td>Allen, Mr. William Henry</td>\n",
       "      <td>male</td>\n",
       "      <td>35.0</td>\n",
       "      <td>0</td>\n",
       "      <td>0</td>\n",
       "      <td>373450</td>\n",
       "      <td>8.0500</td>\n",
       "      <td>NaN</td>\n",
       "      <td>S</td>\n",
       "    </tr>\n",
       "  </tbody>\n",
       "</table>\n",
       "</div>"
      ],
      "text/plain": [
       "   PassengerId  Survived  Pclass  \\\n",
       "0            1         0       3   \n",
       "1            2         1       1   \n",
       "2            3         1       3   \n",
       "3            4         1       1   \n",
       "4            5         0       3   \n",
       "\n",
       "                                                Name     Sex   Age  SibSp  \\\n",
       "0                            Braund, Mr. Owen Harris    male  22.0      1   \n",
       "1  Cumings, Mrs. John Bradley (Florence Briggs Th...  female  38.0      1   \n",
       "2                             Heikkinen, Miss. Laina  female  26.0      0   \n",
       "3       Futrelle, Mrs. Jacques Heath (Lily May Peel)  female  35.0      1   \n",
       "4                           Allen, Mr. William Henry    male  35.0      0   \n",
       "\n",
       "   Parch            Ticket     Fare Cabin Embarked  \n",
       "0      0         A/5 21171   7.2500   NaN        S  \n",
       "1      0          PC 17599  71.2833   C85        C  \n",
       "2      0  STON/O2. 3101282   7.9250   NaN        S  \n",
       "3      0            113803  53.1000  C123        S  \n",
       "4      0            373450   8.0500   NaN        S  "
      ]
     },
     "execution_count": 3,
     "metadata": {},
     "output_type": "execute_result"
    }
   ],
   "source": [
    "train.head()"
   ]
  },
  {
   "cell_type": "code",
   "execution_count": 4,
   "id": "3a2b4a43",
   "metadata": {
    "execution": {
     "iopub.execute_input": "2022-09-09T08:40:22.276194Z",
     "iopub.status.busy": "2022-09-09T08:40:22.275753Z",
     "iopub.status.idle": "2022-09-09T08:40:22.306885Z",
     "shell.execute_reply": "2022-09-09T08:40:22.305461Z"
    },
    "papermill": {
     "duration": 0.045554,
     "end_time": "2022-09-09T08:40:22.310088",
     "exception": false,
     "start_time": "2022-09-09T08:40:22.264534",
     "status": "completed"
    },
    "tags": []
   },
   "outputs": [
    {
     "data": {
      "text/html": [
       "<div>\n",
       "<style scoped>\n",
       "    .dataframe tbody tr th:only-of-type {\n",
       "        vertical-align: middle;\n",
       "    }\n",
       "\n",
       "    .dataframe tbody tr th {\n",
       "        vertical-align: top;\n",
       "    }\n",
       "\n",
       "    .dataframe thead th {\n",
       "        text-align: right;\n",
       "    }\n",
       "</style>\n",
       "<table border=\"1\" class=\"dataframe\">\n",
       "  <thead>\n",
       "    <tr style=\"text-align: right;\">\n",
       "      <th></th>\n",
       "      <th>PassengerId</th>\n",
       "      <th>Survived</th>\n",
       "      <th>Pclass</th>\n",
       "      <th>Name</th>\n",
       "      <th>Sex</th>\n",
       "      <th>Age</th>\n",
       "      <th>SibSp</th>\n",
       "      <th>Parch</th>\n",
       "      <th>Ticket</th>\n",
       "      <th>Fare</th>\n",
       "      <th>Cabin</th>\n",
       "      <th>Embarked</th>\n",
       "    </tr>\n",
       "  </thead>\n",
       "  <tbody>\n",
       "    <tr>\n",
       "      <th>0</th>\n",
       "      <td>False</td>\n",
       "      <td>False</td>\n",
       "      <td>False</td>\n",
       "      <td>False</td>\n",
       "      <td>False</td>\n",
       "      <td>False</td>\n",
       "      <td>False</td>\n",
       "      <td>False</td>\n",
       "      <td>False</td>\n",
       "      <td>False</td>\n",
       "      <td>True</td>\n",
       "      <td>False</td>\n",
       "    </tr>\n",
       "    <tr>\n",
       "      <th>1</th>\n",
       "      <td>False</td>\n",
       "      <td>False</td>\n",
       "      <td>False</td>\n",
       "      <td>False</td>\n",
       "      <td>False</td>\n",
       "      <td>False</td>\n",
       "      <td>False</td>\n",
       "      <td>False</td>\n",
       "      <td>False</td>\n",
       "      <td>False</td>\n",
       "      <td>False</td>\n",
       "      <td>False</td>\n",
       "    </tr>\n",
       "    <tr>\n",
       "      <th>2</th>\n",
       "      <td>False</td>\n",
       "      <td>False</td>\n",
       "      <td>False</td>\n",
       "      <td>False</td>\n",
       "      <td>False</td>\n",
       "      <td>False</td>\n",
       "      <td>False</td>\n",
       "      <td>False</td>\n",
       "      <td>False</td>\n",
       "      <td>False</td>\n",
       "      <td>True</td>\n",
       "      <td>False</td>\n",
       "    </tr>\n",
       "    <tr>\n",
       "      <th>3</th>\n",
       "      <td>False</td>\n",
       "      <td>False</td>\n",
       "      <td>False</td>\n",
       "      <td>False</td>\n",
       "      <td>False</td>\n",
       "      <td>False</td>\n",
       "      <td>False</td>\n",
       "      <td>False</td>\n",
       "      <td>False</td>\n",
       "      <td>False</td>\n",
       "      <td>False</td>\n",
       "      <td>False</td>\n",
       "    </tr>\n",
       "    <tr>\n",
       "      <th>4</th>\n",
       "      <td>False</td>\n",
       "      <td>False</td>\n",
       "      <td>False</td>\n",
       "      <td>False</td>\n",
       "      <td>False</td>\n",
       "      <td>False</td>\n",
       "      <td>False</td>\n",
       "      <td>False</td>\n",
       "      <td>False</td>\n",
       "      <td>False</td>\n",
       "      <td>True</td>\n",
       "      <td>False</td>\n",
       "    </tr>\n",
       "    <tr>\n",
       "      <th>...</th>\n",
       "      <td>...</td>\n",
       "      <td>...</td>\n",
       "      <td>...</td>\n",
       "      <td>...</td>\n",
       "      <td>...</td>\n",
       "      <td>...</td>\n",
       "      <td>...</td>\n",
       "      <td>...</td>\n",
       "      <td>...</td>\n",
       "      <td>...</td>\n",
       "      <td>...</td>\n",
       "      <td>...</td>\n",
       "    </tr>\n",
       "    <tr>\n",
       "      <th>886</th>\n",
       "      <td>False</td>\n",
       "      <td>False</td>\n",
       "      <td>False</td>\n",
       "      <td>False</td>\n",
       "      <td>False</td>\n",
       "      <td>False</td>\n",
       "      <td>False</td>\n",
       "      <td>False</td>\n",
       "      <td>False</td>\n",
       "      <td>False</td>\n",
       "      <td>True</td>\n",
       "      <td>False</td>\n",
       "    </tr>\n",
       "    <tr>\n",
       "      <th>887</th>\n",
       "      <td>False</td>\n",
       "      <td>False</td>\n",
       "      <td>False</td>\n",
       "      <td>False</td>\n",
       "      <td>False</td>\n",
       "      <td>False</td>\n",
       "      <td>False</td>\n",
       "      <td>False</td>\n",
       "      <td>False</td>\n",
       "      <td>False</td>\n",
       "      <td>False</td>\n",
       "      <td>False</td>\n",
       "    </tr>\n",
       "    <tr>\n",
       "      <th>888</th>\n",
       "      <td>False</td>\n",
       "      <td>False</td>\n",
       "      <td>False</td>\n",
       "      <td>False</td>\n",
       "      <td>False</td>\n",
       "      <td>True</td>\n",
       "      <td>False</td>\n",
       "      <td>False</td>\n",
       "      <td>False</td>\n",
       "      <td>False</td>\n",
       "      <td>True</td>\n",
       "      <td>False</td>\n",
       "    </tr>\n",
       "    <tr>\n",
       "      <th>889</th>\n",
       "      <td>False</td>\n",
       "      <td>False</td>\n",
       "      <td>False</td>\n",
       "      <td>False</td>\n",
       "      <td>False</td>\n",
       "      <td>False</td>\n",
       "      <td>False</td>\n",
       "      <td>False</td>\n",
       "      <td>False</td>\n",
       "      <td>False</td>\n",
       "      <td>False</td>\n",
       "      <td>False</td>\n",
       "    </tr>\n",
       "    <tr>\n",
       "      <th>890</th>\n",
       "      <td>False</td>\n",
       "      <td>False</td>\n",
       "      <td>False</td>\n",
       "      <td>False</td>\n",
       "      <td>False</td>\n",
       "      <td>False</td>\n",
       "      <td>False</td>\n",
       "      <td>False</td>\n",
       "      <td>False</td>\n",
       "      <td>False</td>\n",
       "      <td>True</td>\n",
       "      <td>False</td>\n",
       "    </tr>\n",
       "  </tbody>\n",
       "</table>\n",
       "<p>891 rows × 12 columns</p>\n",
       "</div>"
      ],
      "text/plain": [
       "     PassengerId  Survived  Pclass   Name    Sex    Age  SibSp  Parch  Ticket  \\\n",
       "0          False     False   False  False  False  False  False  False   False   \n",
       "1          False     False   False  False  False  False  False  False   False   \n",
       "2          False     False   False  False  False  False  False  False   False   \n",
       "3          False     False   False  False  False  False  False  False   False   \n",
       "4          False     False   False  False  False  False  False  False   False   \n",
       "..           ...       ...     ...    ...    ...    ...    ...    ...     ...   \n",
       "886        False     False   False  False  False  False  False  False   False   \n",
       "887        False     False   False  False  False  False  False  False   False   \n",
       "888        False     False   False  False  False   True  False  False   False   \n",
       "889        False     False   False  False  False  False  False  False   False   \n",
       "890        False     False   False  False  False  False  False  False   False   \n",
       "\n",
       "      Fare  Cabin  Embarked  \n",
       "0    False   True     False  \n",
       "1    False  False     False  \n",
       "2    False   True     False  \n",
       "3    False  False     False  \n",
       "4    False   True     False  \n",
       "..     ...    ...       ...  \n",
       "886  False   True     False  \n",
       "887  False  False     False  \n",
       "888  False   True     False  \n",
       "889  False  False     False  \n",
       "890  False   True     False  \n",
       "\n",
       "[891 rows x 12 columns]"
      ]
     },
     "execution_count": 4,
     "metadata": {},
     "output_type": "execute_result"
    }
   ],
   "source": [
    "train.isnull()"
   ]
  },
  {
   "cell_type": "code",
   "execution_count": 5,
   "id": "d0fd67e5",
   "metadata": {
    "execution": {
     "iopub.execute_input": "2022-09-09T08:40:22.333525Z",
     "iopub.status.busy": "2022-09-09T08:40:22.333071Z",
     "iopub.status.idle": "2022-09-09T08:40:22.339684Z",
     "shell.execute_reply": "2022-09-09T08:40:22.338743Z"
    },
    "papermill": {
     "duration": 0.020497,
     "end_time": "2022-09-09T08:40:22.342096",
     "exception": false,
     "start_time": "2022-09-09T08:40:22.321599",
     "status": "completed"
    },
    "tags": []
   },
   "outputs": [
    {
     "data": {
      "text/plain": [
       "(891, 12)"
      ]
     },
     "execution_count": 5,
     "metadata": {},
     "output_type": "execute_result"
    }
   ],
   "source": [
    "train.shape"
   ]
  },
  {
   "cell_type": "code",
   "execution_count": 6,
   "id": "4ba0eb81",
   "metadata": {
    "execution": {
     "iopub.execute_input": "2022-09-09T08:40:22.365262Z",
     "iopub.status.busy": "2022-09-09T08:40:22.364440Z",
     "iopub.status.idle": "2022-09-09T08:40:22.627459Z",
     "shell.execute_reply": "2022-09-09T08:40:22.626041Z"
    },
    "papermill": {
     "duration": 0.277609,
     "end_time": "2022-09-09T08:40:22.630127",
     "exception": false,
     "start_time": "2022-09-09T08:40:22.352518",
     "status": "completed"
    },
    "tags": []
   },
   "outputs": [
    {
     "data": {
      "text/plain": [
       "<AxesSubplot:>"
      ]
     },
     "execution_count": 6,
     "metadata": {},
     "output_type": "execute_result"
    },
    {
     "data": {
      "image/png": "[encoded data removed]",
      "text/plain": [
       "<Figure size 432x288 with 1 Axes>"
      ]
     },
     "metadata": {
      "needs_background": "light"
     },
     "output_type": "display_data"
    }
   ],
   "source": [
    "sns.heatmap(train.isnull(), yticklabels=False,cbar=False, cmap='viridis')"
   ]
  },
  {
   "cell_type": "code",
   "execution_count": 7,
   "id": "81b45997",
   "metadata": {
    "execution": {
     "iopub.execute_input": "2022-09-09T08:40:22.653692Z",
     "iopub.status.busy": "2022-09-09T08:40:22.653211Z",
     "iopub.status.idle": "2022-09-09T08:40:22.868600Z",
     "shell.execute_reply": "2022-09-09T08:40:22.867446Z"
    },
    "papermill": {
     "duration": 0.230458,
     "end_time": "2022-09-09T08:40:22.871570",
     "exception": false,
     "start_time": "2022-09-09T08:40:22.641112",
     "status": "completed"
    },
    "tags": []
   },
   "outputs": [
    {
     "data": {
      "text/plain": [
       "<AxesSubplot:xlabel='Survived', ylabel='count'>"
      ]
     },
     "execution_count": 7,
     "metadata": {},
     "output_type": "execute_result"
    },
    {
     "data": {
      "image/png": "[encoded data removed]",
      "text/plain": [
       "<Figure size 432x288 with 1 Axes>"
      ]
     },
     "metadata": {},
     "output_type": "display_data"
    }
   ],
   "source": [
    "sns.set_style('whitegrid')\n",
    "sns.countplot(x='Survived', data=train)"
   ]
  },
  {
   "cell_type": "code",
   "execution_count": 8,
   "id": "56452cb2",
   "metadata": {
    "execution": {
     "iopub.execute_input": "2022-09-09T08:40:22.897539Z",
     "iopub.status.busy": "2022-09-09T08:40:22.896191Z",
     "iopub.status.idle": "2022-09-09T08:40:23.130677Z",
     "shell.execute_reply": "2022-09-09T08:40:23.129501Z"
    },
    "papermill": {
     "duration": 0.250262,
     "end_time": "2022-09-09T08:40:23.133234",
     "exception": false,
     "start_time": "2022-09-09T08:40:22.882972",
     "status": "completed"
    },
    "tags": []
   },
   "outputs": [
    {
     "data": {
      "text/plain": [
       "<AxesSubplot:xlabel='Survived', ylabel='count'>"
      ]
     },
     "execution_count": 8,
     "metadata": {},
     "output_type": "execute_result"
    },
    {
     "data": {
      "image/png": "[encoded data removed]",
      "text/plain": [
       "<Figure size 432x288 with 1 Axes>"
      ]
     },
     "metadata": {},
     "output_type": "display_data"
    }
   ],
   "source": [
    "sns.set_style('whitegrid')\n",
    "sns.countplot(x='Survived', hue='Sex', data=train, palette='RdBu_r')"
   ]
  },
  {
   "cell_type": "code",
   "execution_count": 9,
   "id": "5b2987e0",
   "metadata": {
    "execution": {
     "iopub.execute_input": "2022-09-09T08:40:23.158817Z",
     "iopub.status.busy": "2022-09-09T08:40:23.158349Z",
     "iopub.status.idle": "2022-09-09T08:40:23.418098Z",
     "shell.execute_reply": "2022-09-09T08:40:23.417191Z"
    },
    "papermill": {
     "duration": 0.275599,
     "end_time": "2022-09-09T08:40:23.420865",
     "exception": false,
     "start_time": "2022-09-09T08:40:23.145266",
     "status": "completed"
    },
    "tags": []
   },
   "outputs": [
    {
     "data": {
      "text/plain": [
       "<AxesSubplot:xlabel='Survived', ylabel='count'>"
      ]
     },
     "execution_count": 9,
     "metadata": {},
     "output_type": "execute_result"
    },
    {
     "data": {
      "image/png": "[encoded data removed]",
      "text/plain": [
       "<Figure size 432x288 with 1 Axes>"
      ]
     },
     "metadata": {},
     "output_type": "display_data"
    }
   ],
   "source": [
    "sns.set_style('whitegrid')\n",
    "sns.countplot(x='Survived', hue='Pclass', data=train, palette='rainbow')"
   ]
  },
  {
   "cell_type": "code",
   "execution_count": 10,
   "id": "ed5efd49",
   "metadata": {
    "execution": {
     "iopub.execute_input": "2022-09-09T08:40:23.447057Z",
     "iopub.status.busy": "2022-09-09T08:40:23.446131Z",
     "iopub.status.idle": "2022-09-09T08:40:23.898458Z",
     "shell.execute_reply": "2022-09-09T08:40:23.897065Z"
    },
    "papermill": {
     "duration": 0.468117,
     "end_time": "2022-09-09T08:40:23.900969",
     "exception": false,
     "start_time": "2022-09-09T08:40:23.432852",
     "status": "completed"
    },
    "tags": []
   },
   "outputs": [
    {
     "name": "stderr",
     "output_type": "stream",
     "text": [
      "/opt/conda/lib/python3.7/site-packages/seaborn/distributions.py:2619: FutureWarning: `distplot` is a deprecated function and will be removed in a future version. Please adapt your code to use either `displot` (a figure-level function with similar flexibility) or `histplot` (an axes-level function for histograms).\n",
      "  warnings.warn(msg, FutureWarning)\n"
     ]
    },
    {
     "data": {
      "text/plain": [
       "<AxesSubplot:xlabel='Age'>"
      ]
     },
     "execution_count": 10,
     "metadata": {},
     "output_type": "execute_result"
    },
    {
     "data": {
      "image/png": "[encoded data removed]",
      "text/plain": [
       "<Figure size 432x288 with 1 Axes>"
      ]
     },
     "metadata": {},
     "output_type": "display_data"
    }
   ],
   "source": [
    "sns.distplot(train['Age'].dropna(),kde=False,color=[\"green\"],bins=80)"
   ]
  },
  {
   "cell_type": "code",
   "execution_count": 11,
   "id": "8c21388d",
   "metadata": {
    "execution": {
     "iopub.execute_input": "2022-09-09T08:40:23.927487Z",
     "iopub.status.busy": "2022-09-09T08:40:23.926837Z",
     "iopub.status.idle": "2022-09-09T08:40:24.296064Z",
     "shell.execute_reply": "2022-09-09T08:40:24.294767Z"
    },
    "papermill": {
     "duration": 0.385618,
     "end_time": "2022-09-09T08:40:24.298691",
     "exception": false,
     "start_time": "2022-09-09T08:40:23.913073",
     "status": "completed"
    },
    "tags": []
   },
   "outputs": [
    {
     "data": {
      "text/plain": [
       "<AxesSubplot:>"
      ]
     },
     "execution_count": 11,
     "metadata": {},
     "output_type": "execute_result"
    },
    {
     "data": {
      "image/png": "[encoded data removed]",
      "text/plain": [
       "<Figure size 432x288 with 1 Axes>"
      ]
     },
     "metadata": {},
     "output_type": "display_data"
    }
   ],
   "source": [
    "train['Age'].hist(bins=30,color=['green'], alpha=0.3)"
   ]
  },
  {
   "cell_type": "code",
   "execution_count": 12,
   "id": "3b91dc5e",
   "metadata": {
    "execution": {
     "iopub.execute_input": "2022-09-09T08:40:24.325649Z",
     "iopub.status.busy": "2022-09-09T08:40:24.325211Z",
     "iopub.status.idle": "2022-09-09T08:40:24.591732Z",
     "shell.execute_reply": "2022-09-09T08:40:24.590404Z"
    },
    "papermill": {
     "duration": 0.283045,
     "end_time": "2022-09-09T08:40:24.594403",
     "exception": false,
     "start_time": "2022-09-09T08:40:24.311358",
     "status": "completed"
    },
    "tags": []
   },
   "outputs": [
    {
     "data": {
      "text/plain": [
       "<AxesSubplot:xlabel='SibSp', ylabel='count'>"
      ]
     },
     "execution_count": 12,
     "metadata": {},
     "output_type": "execute_result"
    },
    {
     "data": {
      "image/png": "[encoded data removed]",
      "text/plain": [
       "<Figure size 432x288 with 1 Axes>"
      ]
     },
     "metadata": {},
     "output_type": "display_data"
    }
   ],
   "source": [
    "sns.countplot(x='SibSp', data=train)"
   ]
  },
  {
   "cell_type": "code",
   "execution_count": 13,
   "id": "38a7d627",
   "metadata": {
    "execution": {
     "iopub.execute_input": "2022-09-09T08:40:24.622282Z",
     "iopub.status.busy": "2022-09-09T08:40:24.621844Z",
     "iopub.status.idle": "2022-09-09T08:40:24.978127Z",
     "shell.execute_reply": "2022-09-09T08:40:24.976897Z"
    },
    "papermill": {
     "duration": 0.37357,
     "end_time": "2022-09-09T08:40:24.980943",
     "exception": false,
     "start_time": "2022-09-09T08:40:24.607373",
     "status": "completed"
    },
    "tags": []
   },
   "outputs": [
    {
     "data": {
      "text/plain": [
       "<AxesSubplot:>"
      ]
     },
     "execution_count": 13,
     "metadata": {},
     "output_type": "execute_result"
    },
    {
     "data": {
      "image/png": "[encoded data removed]",
      "text/plain": [
       "<Figure size 576x288 with 1 Axes>"
      ]
     },
     "metadata": {},
     "output_type": "display_data"
    }
   ],
   "source": [
    "train['Fare'].hist(color=['green'],bins=40,figsize=(8,4))"
   ]
  },
  {
   "cell_type": "code",
   "execution_count": 14,
   "id": "99bbeca7",
   "metadata": {
    "execution": {
     "iopub.execute_input": "2022-09-09T08:40:25.009560Z",
     "iopub.status.busy": "2022-09-09T08:40:25.008436Z",
     "iopub.status.idle": "2022-09-09T08:40:25.284261Z",
     "shell.execute_reply": "2022-09-09T08:40:25.283387Z"
    },
    "papermill": {
     "duration": 0.292685,
     "end_time": "2022-09-09T08:40:25.286806",
     "exception": false,
     "start_time": "2022-09-09T08:40:24.994121",
     "status": "completed"
    },
    "tags": []
   },
   "outputs": [
    {
     "data": {
      "text/plain": [
       "<AxesSubplot:xlabel='Pclass', ylabel='Age'>"
      ]
     },
     "execution_count": 14,
     "metadata": {},
     "output_type": "execute_result"
    },
    {
     "data": {
      "image/png": "[encoded data removed]",
      "text/plain": [
       "<Figure size 864x504 with 1 Axes>"
      ]
     },
     "metadata": {},
     "output_type": "display_data"
    }
   ],
   "source": [
    "plt.figure(figsize=(12,7))\n",
    "sns.boxplot(x='Pclass', y='Age', data=train, palette='winter')"
   ]
  },
  {
   "cell_type": "code",
   "execution_count": 15,
   "id": "72145768",
   "metadata": {
    "execution": {
     "iopub.execute_input": "2022-09-09T08:40:25.315473Z",
     "iopub.status.busy": "2022-09-09T08:40:25.315027Z",
     "iopub.status.idle": "2022-09-09T08:40:25.321560Z",
     "shell.execute_reply": "2022-09-09T08:40:25.320233Z"
    },
    "papermill": {
     "duration": 0.023678,
     "end_time": "2022-09-09T08:40:25.324096",
     "exception": false,
     "start_time": "2022-09-09T08:40:25.300418",
     "status": "completed"
    },
    "tags": []
   },
   "outputs": [],
   "source": [
    "def impute_age(cols):\n",
    "    Age = cols[0]\n",
    "    Pclass = cols[1]\n",
    "    \n",
    "    if pd.isnull(Age):\n",
    "        \n",
    "        if Pclass == 1:\n",
    "            return 37\n",
    "        \n",
    "        elif Pclass == 2:\n",
    "            return 29\n",
    "        \n",
    "        else:\n",
    "            return 24\n",
    "        \n",
    "    else:\n",
    "            return Age"
   ]
  },
  {
   "cell_type": "code",
   "execution_count": 16,
   "id": "75fb257b",
   "metadata": {
    "execution": {
     "iopub.execute_input": "2022-09-09T08:40:25.353509Z",
     "iopub.status.busy": "2022-09-09T08:40:25.352525Z",
     "iopub.status.idle": "2022-09-09T08:40:25.374188Z",
     "shell.execute_reply": "2022-09-09T08:40:25.372818Z"
    },
    "papermill": {
     "duration": 0.039866,
     "end_time": "2022-09-09T08:40:25.377291",
     "exception": false,
     "start_time": "2022-09-09T08:40:25.337425",
     "status": "completed"
    },
    "tags": []
   },
   "outputs": [],
   "source": [
    "train['Age'] = train[['Age','Pclass']].apply(impute_age,axis=1)"
   ]
  },
  {
   "cell_type": "code",
   "execution_count": 17,
   "id": "0eaa7bfe",
   "metadata": {
    "execution": {
     "iopub.execute_input": "2022-09-09T08:40:25.406109Z",
     "iopub.status.busy": "2022-09-09T08:40:25.405299Z",
     "iopub.status.idle": "2022-09-09T08:40:25.678263Z",
     "shell.execute_reply": "2022-09-09T08:40:25.676836Z"
    },
    "papermill": {
     "duration": 0.290329,
     "end_time": "2022-09-09T08:40:25.680982",
     "exception": false,
     "start_time": "2022-09-09T08:40:25.390653",
     "status": "completed"
    },
    "tags": []
   },
   "outputs": [
    {
     "data": {
      "text/plain": [
       "<AxesSubplot:>"
      ]
     },
     "execution_count": 17,
     "metadata": {},
     "output_type": "execute_result"
    },
    {
     "data": {
      "image/png": "[encoded data removed]",
      "text/plain": [
       "<Figure size 432x288 with 1 Axes>"
      ]
     },
     "metadata": {},
     "output_type": "display_data"
    }
   ],
   "source": [
    "sns.heatmap(train.isnull(), yticklabels=False, cbar=False, cmap='viridis')"
   ]
  },
  {
   "cell_type": "code",
   "execution_count": 18,
   "id": "c44a3ba6",
   "metadata": {
    "execution": {
     "iopub.execute_input": "2022-09-09T08:40:25.710969Z",
     "iopub.status.busy": "2022-09-09T08:40:25.710499Z",
     "iopub.status.idle": "2022-09-09T08:40:25.717073Z",
     "shell.execute_reply": "2022-09-09T08:40:25.716014Z"
    },
    "papermill": {
     "duration": 0.024798,
     "end_time": "2022-09-09T08:40:25.719539",
     "exception": false,
     "start_time": "2022-09-09T08:40:25.694741",
     "status": "completed"
    },
    "tags": []
   },
   "outputs": [],
   "source": [
    "train.drop('Cabin', axis=1,inplace=True)"
   ]
  },
  {
   "cell_type": "code",
   "execution_count": 19,
   "id": "9ce86637",
   "metadata": {
    "execution": {
     "iopub.execute_input": "2022-09-09T08:40:25.750485Z",
     "iopub.status.busy": "2022-09-09T08:40:25.749600Z",
     "iopub.status.idle": "2022-09-09T08:40:25.766666Z",
     "shell.execute_reply": "2022-09-09T08:40:25.765664Z"
    },
    "papermill": {
     "duration": 0.035471,
     "end_time": "2022-09-09T08:40:25.768843",
     "exception": false,
     "start_time": "2022-09-09T08:40:25.733372",
     "status": "completed"
    },
    "tags": []
   },
   "outputs": [
    {
     "data": {
      "text/html": [
       "<div>\n",
       "<style scoped>\n",
       "    .dataframe tbody tr th:only-of-type {\n",
       "        vertical-align: middle;\n",
       "    }\n",
       "\n",
       "    .dataframe tbody tr th {\n",
       "        vertical-align: top;\n",
       "    }\n",
       "\n",
       "    .dataframe thead th {\n",
       "        text-align: right;\n",
       "    }\n",
       "</style>\n",
       "<table border=\"1\" class=\"dataframe\">\n",
       "  <thead>\n",
       "    <tr style=\"text-align: right;\">\n",
       "      <th></th>\n",
       "      <th>PassengerId</th>\n",
       "      <th>Survived</th>\n",
       "      <th>Pclass</th>\n",
       "      <th>Name</th>\n",
       "      <th>Sex</th>\n",
       "      <th>Age</th>\n",
       "      <th>SibSp</th>\n",
       "      <th>Parch</th>\n",
       "      <th>Ticket</th>\n",
       "      <th>Fare</th>\n",
       "      <th>Embarked</th>\n",
       "    </tr>\n",
       "  </thead>\n",
       "  <tbody>\n",
       "    <tr>\n",
       "      <th>0</th>\n",
       "      <td>1</td>\n",
       "      <td>0</td>\n",
       "      <td>3</td>\n",
       "      <td>Braund, Mr. Owen Harris</td>\n",
       "      <td>male</td>\n",
       "      <td>22.0</td>\n",
       "      <td>1</td>\n",
       "      <td>0</td>\n",
       "      <td>A/5 21171</td>\n",
       "      <td>7.2500</td>\n",
       "      <td>S</td>\n",
       "    </tr>\n",
       "    <tr>\n",
       "      <th>1</th>\n",
       "      <td>2</td>\n",
       "      <td>1</td>\n",
       "      <td>1</td>\n",
       "      <td>Cumings, Mrs. John Bradley (Florence Briggs Th...</td>\n",
       "      <td>female</td>\n",
       "      <td>38.0</td>\n",
       "      <td>1</td>\n",
       "      <td>0</td>\n",
       "      <td>PC 17599</td>\n",
       "      <td>71.2833</td>\n",
       "      <td>C</td>\n",
       "    </tr>\n",
       "    <tr>\n",
       "      <th>2</th>\n",
       "      <td>3</td>\n",
       "      <td>1</td>\n",
       "      <td>3</td>\n",
       "      <td>Heikkinen, Miss. Laina</td>\n",
       "      <td>female</td>\n",
       "      <td>26.0</td>\n",
       "      <td>0</td>\n",
       "      <td>0</td>\n",
       "      <td>STON/O2. 3101282</td>\n",
       "      <td>7.9250</td>\n",
       "      <td>S</td>\n",
       "    </tr>\n",
       "    <tr>\n",
       "      <th>3</th>\n",
       "      <td>4</td>\n",
       "      <td>1</td>\n",
       "      <td>1</td>\n",
       "      <td>Futrelle, Mrs. Jacques Heath (Lily May Peel)</td>\n",
       "      <td>female</td>\n",
       "      <td>35.0</td>\n",
       "      <td>1</td>\n",
       "      <td>0</td>\n",
       "      <td>113803</td>\n",
       "      <td>53.1000</td>\n",
       "      <td>S</td>\n",
       "    </tr>\n",
       "    <tr>\n",
       "      <th>4</th>\n",
       "      <td>5</td>\n",
       "      <td>0</td>\n",
       "      <td>3</td>\n",
       "      <td>Allen, Mr. William Henry</td>\n",
       "      <td>male</td>\n",
       "      <td>35.0</td>\n",
       "      <td>0</td>\n",
       "      <td>0</td>\n",
       "      <td>373450</td>\n",
       "      <td>8.0500</td>\n",
       "      <td>S</td>\n",
       "    </tr>\n",
       "  </tbody>\n",
       "</table>\n",
       "</div>"
      ],
      "text/plain": [
       "   PassengerId  Survived  Pclass  \\\n",
       "0            1         0       3   \n",
       "1            2         1       1   \n",
       "2            3         1       3   \n",
       "3            4         1       1   \n",
       "4            5         0       3   \n",
       "\n",
       "                                                Name     Sex   Age  SibSp  \\\n",
       "0                            Braund, Mr. Owen Harris    male  22.0      1   \n",
       "1  Cumings, Mrs. John Bradley (Florence Briggs Th...  female  38.0      1   \n",
       "2                             Heikkinen, Miss. Laina  female  26.0      0   \n",
       "3       Futrelle, Mrs. Jacques Heath (Lily May Peel)  female  35.0      1   \n",
       "4                           Allen, Mr. William Henry    male  35.0      0   \n",
       "\n",
       "   Parch            Ticket     Fare Embarked  \n",
       "0      0         A/5 21171   7.2500        S  \n",
       "1      0          PC 17599  71.2833        C  \n",
       "2      0  STON/O2. 3101282   7.9250        S  \n",
       "3      0            113803  53.1000        S  \n",
       "4      0            373450   8.0500        S  "
      ]
     },
     "execution_count": 19,
     "metadata": {},
     "output_type": "execute_result"
    }
   ],
   "source": [
    "train.head()"
   ]
  },
  {
   "cell_type": "code",
   "execution_count": 20,
   "id": "cecdfdd9",
   "metadata": {
    "execution": {
     "iopub.execute_input": "2022-09-09T08:40:25.799078Z",
     "iopub.status.busy": "2022-09-09T08:40:25.798227Z",
     "iopub.status.idle": "2022-09-09T08:40:26.062062Z",
     "shell.execute_reply": "2022-09-09T08:40:26.060949Z"
    },
    "papermill": {
     "duration": 0.281916,
     "end_time": "2022-09-09T08:40:26.064949",
     "exception": false,
     "start_time": "2022-09-09T08:40:25.783033",
     "status": "completed"
    },
    "tags": []
   },
   "outputs": [
    {
     "data": {
      "text/plain": [
       "<AxesSubplot:>"
      ]
     },
     "execution_count": 20,
     "metadata": {},
     "output_type": "execute_result"
    },
    {
     "data": {
      "image/png": "[encoded data removed]",
      "text/plain": [
       "<Figure size 432x288 with 1 Axes>"
      ]
     },
     "metadata": {},
     "output_type": "display_data"
    }
   ],
   "source": [
    "sns.heatmap(train.isnull(), yticklabels=False, cbar=False, cmap='viridis')"
   ]
  },
  {
   "cell_type": "code",
   "execution_count": 21,
   "id": "6db15aab",
   "metadata": {
    "execution": {
     "iopub.execute_input": "2022-09-09T08:40:26.095922Z",
     "iopub.status.busy": "2022-09-09T08:40:26.095517Z",
     "iopub.status.idle": "2022-09-09T08:40:26.106981Z",
     "shell.execute_reply": "2022-09-09T08:40:26.105893Z"
    },
    "papermill": {
     "duration": 0.030326,
     "end_time": "2022-09-09T08:40:26.109945",
     "exception": false,
     "start_time": "2022-09-09T08:40:26.079619",
     "status": "completed"
    },
    "tags": []
   },
   "outputs": [
    {
     "data": {
      "text/html": [
       "<div>\n",
       "<style scoped>\n",
       "    .dataframe tbody tr th:only-of-type {\n",
       "        vertical-align: middle;\n",
       "    }\n",
       "\n",
       "    .dataframe tbody tr th {\n",
       "        vertical-align: top;\n",
       "    }\n",
       "\n",
       "    .dataframe thead th {\n",
       "        text-align: right;\n",
       "    }\n",
       "</style>\n",
       "<table border=\"1\" class=\"dataframe\">\n",
       "  <thead>\n",
       "    <tr style=\"text-align: right;\">\n",
       "      <th></th>\n",
       "      <th>Q</th>\n",
       "      <th>S</th>\n",
       "    </tr>\n",
       "  </thead>\n",
       "  <tbody>\n",
       "    <tr>\n",
       "      <th>0</th>\n",
       "      <td>0</td>\n",
       "      <td>1</td>\n",
       "    </tr>\n",
       "    <tr>\n",
       "      <th>1</th>\n",
       "      <td>0</td>\n",
       "      <td>0</td>\n",
       "    </tr>\n",
       "    <tr>\n",
       "      <th>2</th>\n",
       "      <td>0</td>\n",
       "      <td>1</td>\n",
       "    </tr>\n",
       "    <tr>\n",
       "      <th>3</th>\n",
       "      <td>0</td>\n",
       "      <td>1</td>\n",
       "    </tr>\n",
       "    <tr>\n",
       "      <th>4</th>\n",
       "      <td>0</td>\n",
       "      <td>1</td>\n",
       "    </tr>\n",
       "  </tbody>\n",
       "</table>\n",
       "</div>"
      ],
      "text/plain": [
       "   Q  S\n",
       "0  0  1\n",
       "1  0  0\n",
       "2  0  1\n",
       "3  0  1\n",
       "4  0  1"
      ]
     },
     "execution_count": 21,
     "metadata": {},
     "output_type": "execute_result"
    }
   ],
   "source": [
    "pd.get_dummies(train['Embarked'], drop_first=True).head()"
   ]
  },
  {
   "cell_type": "code",
   "execution_count": 22,
   "id": "9c1cc2c8",
   "metadata": {
    "execution": {
     "iopub.execute_input": "2022-09-09T08:40:26.141375Z",
     "iopub.status.busy": "2022-09-09T08:40:26.140969Z",
     "iopub.status.idle": "2022-09-09T08:40:26.148764Z",
     "shell.execute_reply": "2022-09-09T08:40:26.147540Z"
    },
    "papermill": {
     "duration": 0.026508,
     "end_time": "2022-09-09T08:40:26.151047",
     "exception": false,
     "start_time": "2022-09-09T08:40:26.124539",
     "status": "completed"
    },
    "tags": []
   },
   "outputs": [],
   "source": [
    "sex = pd.get_dummies(train['Sex'], drop_first=True)\n",
    "embark = pd.get_dummies(train['Embarked'], drop_first=True)"
   ]
  },
  {
   "cell_type": "code",
   "execution_count": 23,
   "id": "19718af7",
   "metadata": {
    "execution": {
     "iopub.execute_input": "2022-09-09T08:40:26.181727Z",
     "iopub.status.busy": "2022-09-09T08:40:26.181289Z",
     "iopub.status.idle": "2022-09-09T08:40:26.187381Z",
     "shell.execute_reply": "2022-09-09T08:40:26.186375Z"
    },
    "papermill": {
     "duration": 0.024041,
     "end_time": "2022-09-09T08:40:26.189609",
     "exception": false,
     "start_time": "2022-09-09T08:40:26.165568",
     "status": "completed"
    },
    "tags": []
   },
   "outputs": [],
   "source": [
    "train.drop(['Sex','Embarked','Name','Ticket'], axis=1,inplace=True)"
   ]
  },
  {
   "cell_type": "code",
   "execution_count": 24,
   "id": "1e8e67c2",
   "metadata": {
    "execution": {
     "iopub.execute_input": "2022-09-09T08:40:26.220389Z",
     "iopub.status.busy": "2022-09-09T08:40:26.219728Z",
     "iopub.status.idle": "2022-09-09T08:40:26.231594Z",
     "shell.execute_reply": "2022-09-09T08:40:26.230688Z"
    },
    "papermill": {
     "duration": 0.029831,
     "end_time": "2022-09-09T08:40:26.233812",
     "exception": false,
     "start_time": "2022-09-09T08:40:26.203981",
     "status": "completed"
    },
    "tags": []
   },
   "outputs": [
    {
     "data": {
      "text/html": [
       "<div>\n",
       "<style scoped>\n",
       "    .dataframe tbody tr th:only-of-type {\n",
       "        vertical-align: middle;\n",
       "    }\n",
       "\n",
       "    .dataframe tbody tr th {\n",
       "        vertical-align: top;\n",
       "    }\n",
       "\n",
       "    .dataframe thead th {\n",
       "        text-align: right;\n",
       "    }\n",
       "</style>\n",
       "<table border=\"1\" class=\"dataframe\">\n",
       "  <thead>\n",
       "    <tr style=\"text-align: right;\">\n",
       "      <th></th>\n",
       "      <th>PassengerId</th>\n",
       "      <th>Survived</th>\n",
       "      <th>Pclass</th>\n",
       "      <th>Age</th>\n",
       "      <th>SibSp</th>\n",
       "      <th>Parch</th>\n",
       "      <th>Fare</th>\n",
       "    </tr>\n",
       "  </thead>\n",
       "  <tbody>\n",
       "    <tr>\n",
       "      <th>0</th>\n",
       "      <td>1</td>\n",
       "      <td>0</td>\n",
       "      <td>3</td>\n",
       "      <td>22.0</td>\n",
       "      <td>1</td>\n",
       "      <td>0</td>\n",
       "      <td>7.2500</td>\n",
       "    </tr>\n",
       "    <tr>\n",
       "      <th>1</th>\n",
       "      <td>2</td>\n",
       "      <td>1</td>\n",
       "      <td>1</td>\n",
       "      <td>38.0</td>\n",
       "      <td>1</td>\n",
       "      <td>0</td>\n",
       "      <td>71.2833</td>\n",
       "    </tr>\n",
       "    <tr>\n",
       "      <th>2</th>\n",
       "      <td>3</td>\n",
       "      <td>1</td>\n",
       "      <td>3</td>\n",
       "      <td>26.0</td>\n",
       "      <td>0</td>\n",
       "      <td>0</td>\n",
       "      <td>7.9250</td>\n",
       "    </tr>\n",
       "    <tr>\n",
       "      <th>3</th>\n",
       "      <td>4</td>\n",
       "      <td>1</td>\n",
       "      <td>1</td>\n",
       "      <td>35.0</td>\n",
       "      <td>1</td>\n",
       "      <td>0</td>\n",
       "      <td>53.1000</td>\n",
       "    </tr>\n",
       "    <tr>\n",
       "      <th>4</th>\n",
       "      <td>5</td>\n",
       "      <td>0</td>\n",
       "      <td>3</td>\n",
       "      <td>35.0</td>\n",
       "      <td>0</td>\n",
       "      <td>0</td>\n",
       "      <td>8.0500</td>\n",
       "    </tr>\n",
       "  </tbody>\n",
       "</table>\n",
       "</div>"
      ],
      "text/plain": [
       "   PassengerId  Survived  Pclass   Age  SibSp  Parch     Fare\n",
       "0            1         0       3  22.0      1      0   7.2500\n",
       "1            2         1       1  38.0      1      0  71.2833\n",
       "2            3         1       3  26.0      0      0   7.9250\n",
       "3            4         1       1  35.0      1      0  53.1000\n",
       "4            5         0       3  35.0      0      0   8.0500"
      ]
     },
     "execution_count": 24,
     "metadata": {},
     "output_type": "execute_result"
    }
   ],
   "source": [
    "train.head()"
   ]
  },
  {
   "cell_type": "code",
   "execution_count": 25,
   "id": "d1c5cf79",
   "metadata": {
    "execution": {
     "iopub.execute_input": "2022-09-09T08:40:26.265508Z",
     "iopub.status.busy": "2022-09-09T08:40:26.265028Z",
     "iopub.status.idle": "2022-09-09T08:40:26.271488Z",
     "shell.execute_reply": "2022-09-09T08:40:26.270556Z"
    },
    "papermill": {
     "duration": 0.024893,
     "end_time": "2022-09-09T08:40:26.273695",
     "exception": false,
     "start_time": "2022-09-09T08:40:26.248802",
     "status": "completed"
    },
    "tags": []
   },
   "outputs": [],
   "source": [
    "train = pd.concat([train,sex,embark],axis=1)"
   ]
  },
  {
   "cell_type": "code",
   "execution_count": 26,
   "id": "e03d8df3",
   "metadata": {
    "execution": {
     "iopub.execute_input": "2022-09-09T08:40:26.305496Z",
     "iopub.status.busy": "2022-09-09T08:40:26.305036Z",
     "iopub.status.idle": "2022-09-09T08:40:26.318659Z",
     "shell.execute_reply": "2022-09-09T08:40:26.317759Z"
    },
    "papermill": {
     "duration": 0.032201,
     "end_time": "2022-09-09T08:40:26.320873",
     "exception": false,
     "start_time": "2022-09-09T08:40:26.288672",
     "status": "completed"
    },
    "tags": []
   },
   "outputs": [
    {
     "data": {
      "text/html": [
       "<div>\n",
       "<style scoped>\n",
       "    .dataframe tbody tr th:only-of-type {\n",
       "        vertical-align: middle;\n",
       "    }\n",
       "\n",
       "    .dataframe tbody tr th {\n",
       "        vertical-align: top;\n",
       "    }\n",
       "\n",
       "    .dataframe thead th {\n",
       "        text-align: right;\n",
       "    }\n",
       "</style>\n",
       "<table border=\"1\" class=\"dataframe\">\n",
       "  <thead>\n",
       "    <tr style=\"text-align: right;\">\n",
       "      <th></th>\n",
       "      <th>PassengerId</th>\n",
       "      <th>Survived</th>\n",
       "      <th>Pclass</th>\n",
       "      <th>Age</th>\n",
       "      <th>SibSp</th>\n",
       "      <th>Parch</th>\n",
       "      <th>Fare</th>\n",
       "      <th>male</th>\n",
       "      <th>Q</th>\n",
       "      <th>S</th>\n",
       "    </tr>\n",
       "  </thead>\n",
       "  <tbody>\n",
       "    <tr>\n",
       "      <th>0</th>\n",
       "      <td>1</td>\n",
       "      <td>0</td>\n",
       "      <td>3</td>\n",
       "      <td>22.0</td>\n",
       "      <td>1</td>\n",
       "      <td>0</td>\n",
       "      <td>7.2500</td>\n",
       "      <td>1</td>\n",
       "      <td>0</td>\n",
       "      <td>1</td>\n",
       "    </tr>\n",
       "    <tr>\n",
       "      <th>1</th>\n",
       "      <td>2</td>\n",
       "      <td>1</td>\n",
       "      <td>1</td>\n",
       "      <td>38.0</td>\n",
       "      <td>1</td>\n",
       "      <td>0</td>\n",
       "      <td>71.2833</td>\n",
       "      <td>0</td>\n",
       "      <td>0</td>\n",
       "      <td>0</td>\n",
       "    </tr>\n",
       "    <tr>\n",
       "      <th>2</th>\n",
       "      <td>3</td>\n",
       "      <td>1</td>\n",
       "      <td>3</td>\n",
       "      <td>26.0</td>\n",
       "      <td>0</td>\n",
       "      <td>0</td>\n",
       "      <td>7.9250</td>\n",
       "      <td>0</td>\n",
       "      <td>0</td>\n",
       "      <td>1</td>\n",
       "    </tr>\n",
       "    <tr>\n",
       "      <th>3</th>\n",
       "      <td>4</td>\n",
       "      <td>1</td>\n",
       "      <td>1</td>\n",
       "      <td>35.0</td>\n",
       "      <td>1</td>\n",
       "      <td>0</td>\n",
       "      <td>53.1000</td>\n",
       "      <td>0</td>\n",
       "      <td>0</td>\n",
       "      <td>1</td>\n",
       "    </tr>\n",
       "    <tr>\n",
       "      <th>4</th>\n",
       "      <td>5</td>\n",
       "      <td>0</td>\n",
       "      <td>3</td>\n",
       "      <td>35.0</td>\n",
       "      <td>0</td>\n",
       "      <td>0</td>\n",
       "      <td>8.0500</td>\n",
       "      <td>1</td>\n",
       "      <td>0</td>\n",
       "      <td>1</td>\n",
       "    </tr>\n",
       "  </tbody>\n",
       "</table>\n",
       "</div>"
      ],
      "text/plain": [
       "   PassengerId  Survived  Pclass   Age  SibSp  Parch     Fare  male  Q  S\n",
       "0            1         0       3  22.0      1      0   7.2500     1  0  1\n",
       "1            2         1       1  38.0      1      0  71.2833     0  0  0\n",
       "2            3         1       3  26.0      0      0   7.9250     0  0  1\n",
       "3            4         1       1  35.0      1      0  53.1000     0  0  1\n",
       "4            5         0       3  35.0      0      0   8.0500     1  0  1"
      ]
     },
     "execution_count": 26,
     "metadata": {},
     "output_type": "execute_result"
    }
   ],
   "source": [
    "train.head()"
   ]
  },
  {
   "cell_type": "code",
   "execution_count": 27,
   "id": "4095e19b",
   "metadata": {
    "execution": {
     "iopub.execute_input": "2022-09-09T08:40:26.353363Z",
     "iopub.status.busy": "2022-09-09T08:40:26.352704Z",
     "iopub.status.idle": "2022-09-09T08:40:26.368017Z",
     "shell.execute_reply": "2022-09-09T08:40:26.366756Z"
    },
    "papermill": {
     "duration": 0.034661,
     "end_time": "2022-09-09T08:40:26.370451",
     "exception": false,
     "start_time": "2022-09-09T08:40:26.335790",
     "status": "completed"
    },
    "tags": []
   },
   "outputs": [
    {
     "data": {
      "text/html": [
       "<div>\n",
       "<style scoped>\n",
       "    .dataframe tbody tr th:only-of-type {\n",
       "        vertical-align: middle;\n",
       "    }\n",
       "\n",
       "    .dataframe tbody tr th {\n",
       "        vertical-align: top;\n",
       "    }\n",
       "\n",
       "    .dataframe thead th {\n",
       "        text-align: right;\n",
       "    }\n",
       "</style>\n",
       "<table border=\"1\" class=\"dataframe\">\n",
       "  <thead>\n",
       "    <tr style=\"text-align: right;\">\n",
       "      <th></th>\n",
       "      <th>PassengerId</th>\n",
       "      <th>Pclass</th>\n",
       "      <th>Age</th>\n",
       "      <th>SibSp</th>\n",
       "      <th>Parch</th>\n",
       "      <th>Fare</th>\n",
       "      <th>male</th>\n",
       "      <th>Q</th>\n",
       "      <th>S</th>\n",
       "    </tr>\n",
       "  </thead>\n",
       "  <tbody>\n",
       "    <tr>\n",
       "      <th>0</th>\n",
       "      <td>1</td>\n",
       "      <td>3</td>\n",
       "      <td>22.0</td>\n",
       "      <td>1</td>\n",
       "      <td>0</td>\n",
       "      <td>7.2500</td>\n",
       "      <td>1</td>\n",
       "      <td>0</td>\n",
       "      <td>1</td>\n",
       "    </tr>\n",
       "    <tr>\n",
       "      <th>1</th>\n",
       "      <td>2</td>\n",
       "      <td>1</td>\n",
       "      <td>38.0</td>\n",
       "      <td>1</td>\n",
       "      <td>0</td>\n",
       "      <td>71.2833</td>\n",
       "      <td>0</td>\n",
       "      <td>0</td>\n",
       "      <td>0</td>\n",
       "    </tr>\n",
       "    <tr>\n",
       "      <th>2</th>\n",
       "      <td>3</td>\n",
       "      <td>3</td>\n",
       "      <td>26.0</td>\n",
       "      <td>0</td>\n",
       "      <td>0</td>\n",
       "      <td>7.9250</td>\n",
       "      <td>0</td>\n",
       "      <td>0</td>\n",
       "      <td>1</td>\n",
       "    </tr>\n",
       "    <tr>\n",
       "      <th>3</th>\n",
       "      <td>4</td>\n",
       "      <td>1</td>\n",
       "      <td>35.0</td>\n",
       "      <td>1</td>\n",
       "      <td>0</td>\n",
       "      <td>53.1000</td>\n",
       "      <td>0</td>\n",
       "      <td>0</td>\n",
       "      <td>1</td>\n",
       "    </tr>\n",
       "    <tr>\n",
       "      <th>4</th>\n",
       "      <td>5</td>\n",
       "      <td>3</td>\n",
       "      <td>35.0</td>\n",
       "      <td>0</td>\n",
       "      <td>0</td>\n",
       "      <td>8.0500</td>\n",
       "      <td>1</td>\n",
       "      <td>0</td>\n",
       "      <td>1</td>\n",
       "    </tr>\n",
       "  </tbody>\n",
       "</table>\n",
       "</div>"
      ],
      "text/plain": [
       "   PassengerId  Pclass   Age  SibSp  Parch     Fare  male  Q  S\n",
       "0            1       3  22.0      1      0   7.2500     1  0  1\n",
       "1            2       1  38.0      1      0  71.2833     0  0  0\n",
       "2            3       3  26.0      0      0   7.9250     0  0  1\n",
       "3            4       1  35.0      1      0  53.1000     0  0  1\n",
       "4            5       3  35.0      0      0   8.0500     1  0  1"
      ]
     },
     "execution_count": 27,
     "metadata": {},
     "output_type": "execute_result"
    }
   ],
   "source": [
    "train.drop('Survived', axis=1).head()"
   ]
  },
  {
   "cell_type": "code",
   "execution_count": 28,
   "id": "ebf41be3",
   "metadata": {
    "execution": {
     "iopub.execute_input": "2022-09-09T08:40:26.402562Z",
     "iopub.status.busy": "2022-09-09T08:40:26.402121Z",
     "iopub.status.idle": "2022-09-09T08:40:26.408984Z",
     "shell.execute_reply": "2022-09-09T08:40:26.408171Z"
    },
    "papermill": {
     "duration": 0.025514,
     "end_time": "2022-09-09T08:40:26.411056",
     "exception": false,
     "start_time": "2022-09-09T08:40:26.385542",
     "status": "completed"
    },
    "tags": []
   },
   "outputs": [
    {
     "data": {
      "text/plain": [
       "0    0\n",
       "1    1\n",
       "2    1\n",
       "3    1\n",
       "4    0\n",
       "Name: Survived, dtype: int64"
      ]
     },
     "execution_count": 28,
     "metadata": {},
     "output_type": "execute_result"
    }
   ],
   "source": [
    "train['Survived'].head()"
   ]
  },
  {
   "cell_type": "code",
   "execution_count": 29,
   "id": "8b0ea0ab",
   "metadata": {
    "execution": {
     "iopub.execute_input": "2022-09-09T08:40:26.443902Z",
     "iopub.status.busy": "2022-09-09T08:40:26.443428Z",
     "iopub.status.idle": "2022-09-09T08:40:26.681658Z",
     "shell.execute_reply": "2022-09-09T08:40:26.680370Z"
    },
    "papermill": {
     "duration": 0.258311,
     "end_time": "2022-09-09T08:40:26.684526",
     "exception": false,
     "start_time": "2022-09-09T08:40:26.426215",
     "status": "completed"
    },
    "tags": []
   },
   "outputs": [],
   "source": [
    "from sklearn.model_selection import train_test_split"
   ]
  },
  {
   "cell_type": "code",
   "execution_count": 30,
   "id": "1197fd30",
   "metadata": {
    "execution": {
     "iopub.execute_input": "2022-09-09T08:40:26.716813Z",
     "iopub.status.busy": "2022-09-09T08:40:26.716371Z",
     "iopub.status.idle": "2022-09-09T08:40:26.726654Z",
     "shell.execute_reply": "2022-09-09T08:40:26.725560Z"
    },
    "papermill": {
     "duration": 0.029604,
     "end_time": "2022-09-09T08:40:26.729395",
     "exception": false,
     "start_time": "2022-09-09T08:40:26.699791",
     "status": "completed"
    },
    "tags": []
   },
   "outputs": [],
   "source": [
    "X_train, X_test, y_train, y_test = train_test_split(train.drop('Survived', axis=1),\n",
    "                                                   train['Survived'], test_size=0.30,\n",
    "                                                   random_state=101)"
   ]
  },
  {
   "cell_type": "code",
   "execution_count": 31,
   "id": "eb3de18e",
   "metadata": {
    "execution": {
     "iopub.execute_input": "2022-09-09T08:40:26.763545Z",
     "iopub.status.busy": "2022-09-09T08:40:26.762641Z",
     "iopub.status.idle": "2022-09-09T08:40:26.857500Z",
     "shell.execute_reply": "2022-09-09T08:40:26.856202Z"
    },
    "papermill": {
     "duration": 0.115061,
     "end_time": "2022-09-09T08:40:26.860404",
     "exception": false,
     "start_time": "2022-09-09T08:40:26.745343",
     "status": "completed"
    },
    "tags": []
   },
   "outputs": [],
   "source": [
    "from sklearn.linear_model import LogisticRegression"
   ]
  },
  {
   "cell_type": "code",
   "execution_count": 32,
   "id": "8c7d2c16",
   "metadata": {
    "execution": {
     "iopub.execute_input": "2022-09-09T08:40:26.894346Z",
     "iopub.status.busy": "2022-09-09T08:40:26.893855Z",
     "iopub.status.idle": "2022-09-09T08:40:26.943095Z",
     "shell.execute_reply": "2022-09-09T08:40:26.941748Z"
    },
    "papermill": {
     "duration": 0.06903,
     "end_time": "2022-09-09T08:40:26.945588",
     "exception": false,
     "start_time": "2022-09-09T08:40:26.876558",
     "status": "completed"
    },
    "tags": []
   },
   "outputs": [
    {
     "name": "stderr",
     "output_type": "stream",
     "text": [
      "/opt/conda/lib/python3.7/site-packages/sklearn/linear_model/_logistic.py:818: ConvergenceWarning: lbfgs failed to converge (status=1):\n",
      "STOP: TOTAL NO. of ITERATIONS REACHED LIMIT.\n",
      "\n",
      "Increase the number of iterations (max_iter) or scale the data as shown in:\n",
      "    https://scikit-learn.org/stable/modules/preprocessing.html\n",
      "Please also refer to the documentation for alternative solver options:\n",
      "    https://scikit-learn.org/stable/modules/linear_model.html#logistic-regression\n",
      "  extra_warning_msg=_LOGISTIC_SOLVER_CONVERGENCE_MSG,\n"
     ]
    },
    {
     "data": {
      "text/plain": [
       "LogisticRegression()"
      ]
     },
     "execution_count": 32,
     "metadata": {},
     "output_type": "execute_result"
    }
   ],
   "source": [
    "logmodel = LogisticRegression()\n",
    "logmodel.fit(X_train, y_train)"
   ]
  },
  {
   "cell_type": "code",
   "execution_count": 33,
   "id": "659be356",
   "metadata": {
    "execution": {
     "iopub.execute_input": "2022-09-09T08:40:26.981167Z",
     "iopub.status.busy": "2022-09-09T08:40:26.980526Z",
     "iopub.status.idle": "2022-09-09T08:40:26.988467Z",
     "shell.execute_reply": "2022-09-09T08:40:26.987370Z"
    },
    "papermill": {
     "duration": 0.028473,
     "end_time": "2022-09-09T08:40:26.990757",
     "exception": false,
     "start_time": "2022-09-09T08:40:26.962284",
     "status": "completed"
    },
    "tags": []
   },
   "outputs": [
    {
     "data": {
      "text/plain": [
       "LogisticRegression(multi_class='ovr', n_jobs=1, penalty='12', solver='libliner',\n",
       "                   tol=1e-05)"
      ]
     },
     "execution_count": 33,
     "metadata": {},
     "output_type": "execute_result"
    }
   ],
   "source": [
    "LogisticRegression(C=1.0, class_weight=None, dual=False, fit_intercept=True,\n",
    "                  intercept_scaling=1, max_iter=100, multi_class='ovr', n_jobs=1,\n",
    "                  penalty='12', random_state=None, solver='libliner', tol=0.00001,\n",
    "                  verbose=0,warm_start=False)"
   ]
  },
  {
   "cell_type": "code",
   "execution_count": 34,
   "id": "3ea76257",
   "metadata": {
    "execution": {
     "iopub.execute_input": "2022-09-09T08:40:27.023509Z",
     "iopub.status.busy": "2022-09-09T08:40:27.023066Z",
     "iopub.status.idle": "2022-09-09T08:40:27.030054Z",
     "shell.execute_reply": "2022-09-09T08:40:27.028723Z"
    },
    "papermill": {
     "duration": 0.026388,
     "end_time": "2022-09-09T08:40:27.032530",
     "exception": false,
     "start_time": "2022-09-09T08:40:27.006142",
     "status": "completed"
    },
    "tags": []
   },
   "outputs": [],
   "source": [
    "predictions = logmodel.predict(X_test)"
   ]
  },
  {
   "cell_type": "code",
   "execution_count": 35,
   "id": "9b4fedc9",
   "metadata": {
    "execution": {
     "iopub.execute_input": "2022-09-09T08:40:27.066753Z",
     "iopub.status.busy": "2022-09-09T08:40:27.066281Z",
     "iopub.status.idle": "2022-09-09T08:40:27.071147Z",
     "shell.execute_reply": "2022-09-09T08:40:27.069753Z"
    },
    "papermill": {
     "duration": 0.025005,
     "end_time": "2022-09-09T08:40:27.073801",
     "exception": false,
     "start_time": "2022-09-09T08:40:27.048796",
     "status": "completed"
    },
    "tags": []
   },
   "outputs": [],
   "source": [
    "from sklearn.metrics import confusion_matrix"
   ]
  },
  {
   "cell_type": "code",
   "execution_count": 36,
   "id": "28effcf2",
   "metadata": {
    "execution": {
     "iopub.execute_input": "2022-09-09T08:40:27.109707Z",
     "iopub.status.busy": "2022-09-09T08:40:27.109108Z",
     "iopub.status.idle": "2022-09-09T08:40:27.118035Z",
     "shell.execute_reply": "2022-09-09T08:40:27.117056Z"
    },
    "papermill": {
     "duration": 0.031004,
     "end_time": "2022-09-09T08:40:27.120527",
     "exception": false,
     "start_time": "2022-09-09T08:40:27.089523",
     "status": "completed"
    },
    "tags": []
   },
   "outputs": [],
   "source": [
    "accuracy = confusion_matrix(y_test, predictions)"
   ]
  },
  {
   "cell_type": "code",
   "execution_count": 37,
   "id": "76b985b2",
   "metadata": {
    "execution": {
     "iopub.execute_input": "2022-09-09T08:40:27.155354Z",
     "iopub.status.busy": "2022-09-09T08:40:27.154523Z",
     "iopub.status.idle": "2022-09-09T08:40:27.161984Z",
     "shell.execute_reply": "2022-09-09T08:40:27.160782Z"
    },
    "papermill": {
     "duration": 0.027581,
     "end_time": "2022-09-09T08:40:27.164608",
     "exception": false,
     "start_time": "2022-09-09T08:40:27.137027",
     "status": "completed"
    },
    "tags": []
   },
   "outputs": [
    {
     "data": {
      "text/plain": [
       "array([[134,  20],\n",
       "       [ 42,  72]])"
      ]
     },
     "execution_count": 37,
     "metadata": {},
     "output_type": "execute_result"
    }
   ],
   "source": [
    "accuracy"
   ]
  },
  {
   "cell_type": "code",
   "execution_count": 38,
   "id": "ea9b69ea",
   "metadata": {
    "execution": {
     "iopub.execute_input": "2022-09-09T08:40:27.199705Z",
     "iopub.status.busy": "2022-09-09T08:40:27.198486Z",
     "iopub.status.idle": "2022-09-09T08:40:27.204582Z",
     "shell.execute_reply": "2022-09-09T08:40:27.203609Z"
    },
    "papermill": {
     "duration": 0.026934,
     "end_time": "2022-09-09T08:40:27.207374",
     "exception": false,
     "start_time": "2022-09-09T08:40:27.180440",
     "status": "completed"
    },
    "tags": []
   },
   "outputs": [],
   "source": [
    "from sklearn.metrics import accuracy_score"
   ]
  },
  {
   "cell_type": "code",
   "execution_count": 39,
   "id": "337e983e",
   "metadata": {
    "execution": {
     "iopub.execute_input": "2022-09-09T08:40:27.243831Z",
     "iopub.status.busy": "2022-09-09T08:40:27.242507Z",
     "iopub.status.idle": "2022-09-09T08:40:27.251031Z",
     "shell.execute_reply": "2022-09-09T08:40:27.250061Z"
    },
    "papermill": {
     "duration": 0.030239,
     "end_time": "2022-09-09T08:40:27.253297",
     "exception": false,
     "start_time": "2022-09-09T08:40:27.223058",
     "status": "completed"
    },
    "tags": []
   },
   "outputs": [
    {
     "data": {
      "text/plain": [
       "0.7686567164179104"
      ]
     },
     "execution_count": 39,
     "metadata": {},
     "output_type": "execute_result"
    }
   ],
   "source": [
    "accuracy=accuracy_score(y_test, predictions)\n",
    "accuracy"
   ]
  },
  {
   "cell_type": "code",
   "execution_count": 40,
   "id": "e077ba2f",
   "metadata": {
    "execution": {
     "iopub.execute_input": "2022-09-09T08:40:27.287361Z",
     "iopub.status.busy": "2022-09-09T08:40:27.286718Z",
     "iopub.status.idle": "2022-09-09T08:40:27.293211Z",
     "shell.execute_reply": "2022-09-09T08:40:27.292336Z"
    },
    "papermill": {
     "duration": 0.026722,
     "end_time": "2022-09-09T08:40:27.295853",
     "exception": false,
     "start_time": "2022-09-09T08:40:27.269131",
     "status": "completed"
    },
    "tags": []
   },
   "outputs": [
    {
     "data": {
      "text/plain": [
       "array([0, 1, 0, 0, 0, 0, 0, 0, 1, 1, 0, 0, 1, 0, 0, 0, 0, 0, 0, 1, 0, 0,\n",
       "       1, 1, 0, 0, 0, 0, 0, 0, 1, 1, 1, 0, 0, 1, 0, 0, 0, 0, 0, 1, 1, 0,\n",
       "       0, 0, 0, 0, 0, 0, 1, 1, 1, 1, 1, 0, 0, 0, 0, 1, 1, 0, 0, 1, 0, 0,\n",
       "       1, 1, 1, 0, 0, 0, 0, 0, 1, 1, 0, 0, 0, 0, 0, 1, 0, 0, 1, 0, 0, 0,\n",
       "       0, 1, 0, 0, 1, 1, 1, 1, 1, 0, 0, 0, 0, 1, 0, 0, 0, 1, 1, 1, 1, 0,\n",
       "       0, 0, 0, 0, 1, 0, 1, 0, 0, 1, 0, 0, 1, 0, 0, 0, 1, 0, 1, 0, 1, 1,\n",
       "       1, 0, 0, 0, 0, 0, 0, 1, 0, 1, 0, 0, 1, 0, 1, 0, 0, 0, 1, 1, 0, 0,\n",
       "       0, 0, 1, 0, 1, 1, 0, 0, 1, 0, 1, 1, 0, 1, 0, 0, 1, 0, 0, 1, 0, 0,\n",
       "       1, 0, 0, 0, 0, 0, 1, 1, 1, 0, 0, 1, 0, 0, 0, 0, 0, 1, 0, 0, 0, 1,\n",
       "       0, 0, 1, 0, 0, 1, 0, 1, 0, 1, 1, 0, 0, 0, 0, 0, 0, 0, 0, 1, 0, 1,\n",
       "       1, 0, 0, 0, 0, 1, 0, 0, 0, 0, 0, 0, 0, 1, 0, 0, 0, 1, 1, 0, 1, 1,\n",
       "       0, 0, 1, 1, 0, 0, 1, 0, 0, 1, 0, 0, 0, 0, 0, 0, 1, 0, 0, 1, 0, 0,\n",
       "       1, 0, 0, 1])"
      ]
     },
     "execution_count": 40,
     "metadata": {},
     "output_type": "execute_result"
    }
   ],
   "source": [
    "predictions"
   ]
  },
  {
   "cell_type": "code",
   "execution_count": null,
   "id": "cbadc860",
   "metadata": {
    "papermill": {
     "duration": 0.015773,
     "end_time": "2022-09-09T08:40:27.327470",
     "exception": false,
     "start_time": "2022-09-09T08:40:27.311697",
     "status": "completed"
    },
    "tags": []
   },
   "outputs": [],
   "source": []
  }
 ],
 "metadata": {
  "kernelspec": {
   "display_name": "Python 3",
   "language": "python",
   "name": "python3"
  },
  "language_info": {
   "codemirror_mode": {
    "name": "ipython",
    "version": 3
   },
   "file_extension": ".py",
   "mimetype": "text/x-python",
   "name": "python",
   "nbconvert_exporter": "python",
   "pygments_lexer": "ipython3",
   "version": "3.7.12"
  },
  "papermill": {
   "default_parameters": {},
   "duration": 18.481348,
   "end_time": "2022-09-09T08:40:28.167179",
   "environment_variables": {},
   "exception": null,
   "input_path": "__notebook__.ipynb",
   "output_path": "__notebook__.ipynb",
   "parameters": {},
   "start_time": "2022-09-09T08:40:09.685831",
   "version": "2.3.4"
  }
 },
 "nbformat": 4,
 "nbformat_minor": 5
}
